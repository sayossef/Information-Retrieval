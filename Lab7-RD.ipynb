{
 "cells": [
  {
   "cell_type": "code",
   "execution_count": 47,
   "metadata": {},
   "outputs": [
    {
     "name": "stderr",
     "output_type": "stream",
     "text": [
      "[nltk_data] Downloading package stopwords to C:\\Users\\sa-\n",
      "[nltk_data]     yo\\AppData\\Roaming\\nltk_data...\n",
      "[nltk_data]   Package stopwords is already up-to-date!\n",
      "[nltk_data] Downloading package punkt to C:\\Users\\sa-\n",
      "[nltk_data]     yo\\AppData\\Roaming\\nltk_data...\n",
      "[nltk_data]   Package punkt is already up-to-date!\n"
     ]
    },
    {
     "data": {
      "text/plain": [
       "True"
      ]
     },
     "execution_count": 47,
     "metadata": {},
     "output_type": "execute_result"
    }
   ],
   "source": [
    "# import the necessary libraries\n",
    "import pandas as pd\n",
    "import numpy as np\n",
    "import nltk\n",
    "nltk.download('stopwords')\n",
    "nltk.download('punkt') "
   ]
  },
  {
   "cell_type": "code",
   "execution_count": 48,
   "metadata": {},
   "outputs": [],
   "source": [
    "from nltk.corpus import stopwords\n",
    "from nltk.tokenize import word_tokenize\n",
    "from nltk.stem import PorterStemmer\n",
    "import os\n",
    "import string\n",
    "import copy\n",
    "import pickle"
   ]
  },
  {
   "cell_type": "code",
   "execution_count": 49,
   "metadata": {},
   "outputs": [
    {
     "name": "stdout",
     "output_type": "stream",
     "text": [
      "C:\\20_newsgroups/comp.graphics/\n"
     ]
    }
   ],
   "source": [
    "title = \"comp.graphics\"\n",
    "os.chdir(\"C:/20_newsgroups\")\n",
    "paths = []\n",
    "for (dirpath, dirnames, filenames) in os.walk(str(os.getcwd())+'/'+title+'/'):\n",
    "    for i in filenames:\n",
    "        paths.append(str(dirpath)+str(\"\\\\\")+i) \n",
    "\n",
    "print(dirpath)"
   ]
  },
  {
   "cell_type": "markdown",
   "metadata": {},
   "source": [
    "-Preprocessing-"
   ]
  },
  {
   "cell_type": "code",
   "execution_count": 67,
   "metadata": {},
   "outputs": [],
   "source": [
    "def remove_stop_words(data): \n",
    " stop_words = stopwords.words('english') \n",
    " words = word_tokenize(str(data)) \n",
    " new_text = \"\" \n",
    " for w in words: \n",
    "     if w not in stop_words: \n",
    "         new_text = new_text + \" \" + w \n",
    " return np.char.strip(new_text) \n",
    "\n",
    "def remove_punctuation(data): \n",
    "  symbols = \"!\\\"#$%&()*+-./:;<=>?@[\\]^_`{|}~\\n\" \n",
    "  for i in range(len(symbols)): \n",
    "     data = np.char.replace(data, symbols[i], ' ') \n",
    "     data = np.char.replace(data, \" \", \" \") \n",
    "  data = np.char.replace(data, ',', '') \n",
    "  return data \n",
    "\n",
    "def convert_lower_case(data): \n",
    " return np.char.lower(data) \n",
    "\n",
    "\n",
    "def stemming(data): \n",
    " stemmer= PorterStemmer() \n",
    " \n",
    " tokens = word_tokenize(str(data)) \n",
    " new_text = \"\" \n",
    " for w in tokens: \n",
    "    new_text = new_text + \" \" + stemmer.stem(w) \n",
    " return np.char.strip(new_text) \n",
    "\n",
    "def convert_numbers(data): \n",
    " data = np.char.replace(data, \"0\", \" zero \") \n",
    " data = np.char.replace(data, \"1\", \" one \") \n",
    " data = np.char.replace(data, \"2\", \" two \") \n",
    " data = np.char.replace(data, \"3\", \" three \") \n",
    " data = np.char.replace(data, \"4\", \" four \") \n",
    " data = np.char.replace(data, \"5\", \" five \") \n",
    " data = np.char.replace(data, \"6\", \" six \") \n",
    " data = np.char.replace(data, \"7\", \" seven \") \n",
    " data = np.char.replace(data, \"8\", \" eight \") \n",
    " data = np.char.replace(data, \"9\", \" nine \") \n",
    " return data\n",
    "\n",
    "def remove_header(data): \n",
    "   try: \n",
    "    ind = data.index('\\n\\n') \n",
    "    data = data[ind:] \n",
    "   except: \n",
    "    print(\"No Header\") \n",
    "   return data \n",
    "\n",
    "def remove_header(data): \n",
    " try: \n",
    "    ind = data.index('\\n\\n') \n",
    "    data = data[ind:] \n",
    " except: \n",
    "    print(\"No Header\") \n",
    " return data \n",
    "\n",
    "def remove_apostrophe(data): \n",
    " return np.char.replace(data, \"'\", \"\")\n",
    "\n",
    "def remove_single_characters(data): \n",
    " words = word_tokenize(str(data)) \n",
    " new_text = \"\" \n",
    " for w in words: \n",
    "  if len(w) > 1: \n",
    "   new_text = new_text + \" \" + w \n",
    " return np.char.strip(new_text)\n",
    "\n",
    "def preprocess(data, query): \n",
    " if not query: \n",
    "    data = remove_header(data) \n",
    "    data = convert_lower_case(data)\n",
    "    data = convert_numbers(data)\n",
    "    data = remove_punctuation(data)\n",
    "    data = remove_stop_words(data)\n",
    "    data = remove_apostrophe(data)\n",
    "    data = remove_single_characters(data)\n",
    "    data = stemming(data)\n",
    "\n",
    " return data "
   ]
  },
  {
   "cell_type": "code",
   "execution_count": 51,
   "metadata": {},
   "outputs": [
    {
     "name": "stdout",
     "output_type": "stream",
     "text": [
      "0\n",
      "No Header\n",
      "No Header\n",
      "100\n",
      "200\n",
      "300\n",
      "400\n",
      "500\n",
      "600\n",
      "700\n",
      "800\n",
      "900\n"
     ]
    }
   ],
   "source": [
    "postings = pd.DataFrame() \n",
    "frequency = pd.DataFrame()\n",
    "doc=0\n",
    "i=0\n",
    "\n",
    "for path in paths: \n",
    "    file = open(path, 'r', encoding='cp1250') \n",
    "    text = file.read().strip() \n",
    "    file.close() \n",
    "    preprocessed_text = preprocess(text, False) \n",
    "    if doc%100 == 0: \n",
    "        print(doc) \n",
    "    tokens = word_tokenize(str(preprocessed_text))\n",
    "    pos=0\n",
    "    for token in tokens:\n",
    "        if token in postings:\n",
    "            p = postings[token][0]\n",
    "            k= [a[0]for a in p]\n",
    "            if doc in k:\n",
    "                for a in p:\n",
    "                    if a[0]==doc:\n",
    "                        a[1].add(pos)\n",
    "            else:\n",
    "                p.append([doc,{pos}])\n",
    "                frequency[token][0]+=1\n",
    "        else:\n",
    "            postings.insert(value=[[[doc,{pos}]]], loc=0, column=token)\n",
    "            frequency.insert(value=[1],loc=0,column=token)\n",
    "        pos+=1\n",
    "    doc+=1"
   ]
  },
  {
   "cell_type": "code",
   "execution_count": 56,
   "metadata": {},
   "outputs": [
    {
     "data": {
      "text/html": [
       "<div>\n",
       "<style scoped>\n",
       "    .dataframe tbody tr th:only-of-type {\n",
       "        vertical-align: middle;\n",
       "    }\n",
       "\n",
       "    .dataframe tbody tr th {\n",
       "        vertical-align: top;\n",
       "    }\n",
       "\n",
       "    .dataframe thead th {\n",
       "        text-align: right;\n",
       "    }\n",
       "</style>\n",
       "<table border=\"1\" class=\"dataframe\">\n",
       "  <thead>\n",
       "    <tr style=\"text-align: right;\">\n",
       "      <th></th>\n",
       "      <th>hasth</th>\n",
       "      <th>buywher</th>\n",
       "      <th>thailand</th>\n",
       "      <th>decor</th>\n",
       "      <th>ginsberg</th>\n",
       "      <th>hide</th>\n",
       "      <th>lettuc</th>\n",
       "      <th>allegori</th>\n",
       "      <th>sandwich</th>\n",
       "      <th>nake</th>\n",
       "      <th>...</th>\n",
       "      <th>june</th>\n",
       "      <th>tuesday</th>\n",
       "      <th>seminar</th>\n",
       "      <th>realiti</th>\n",
       "      <th>virtual</th>\n",
       "      <th>visual</th>\n",
       "      <th>scientif</th>\n",
       "      <th>navi</th>\n",
       "      <th>present</th>\n",
       "      <th>call</th>\n",
       "    </tr>\n",
       "  </thead>\n",
       "  <tbody>\n",
       "    <tr>\n",
       "      <th>0</th>\n",
       "      <td>[[999, {23}]]</td>\n",
       "      <td>[[999, {15}]]</td>\n",
       "      <td>[[999, {7}]]</td>\n",
       "      <td>[[999, {5}]]</td>\n",
       "      <td>[[998, {211}]]</td>\n",
       "      <td>[[998, {208}]]</td>\n",
       "      <td>[[998, {206}]]</td>\n",
       "      <td>[[998, {204}]]</td>\n",
       "      <td>[[998, {203}]]</td>\n",
       "      <td>[[998, {197}]]</td>\n",
       "      <td>...</td>\n",
       "      <td>[[0, {9, 226}], [118, {18}], [239, {229}], [37...</td>\n",
       "      <td>[[0, {8}], [49, {169}], [68, {13}], [153, {18}...</td>\n",
       "      <td>[[0, {7, 43, 107, 45, 123}], [420, {121, 13}],...</td>\n",
       "      <td>[[0, {68, 6, 42, 112, 54}], [96, {7, 523, 558,...</td>\n",
       "      <td>[[0, {67, 5, 41, 111, 53}], [96, {515, 6, 522,...</td>\n",
       "      <td>[[0, {66, 4, 40, 110, 52}], [3, {74}], [7, {80...</td>\n",
       "      <td>[[0, {65, 3, 39, 109, 51}], [8, {85}], [43, {2...</td>\n",
       "      <td>[[0, {2, 258, 38, 75, 49, 182, 248, 63, 31}], ...</td>\n",
       "      <td>[[0, {1, 100, 59, 46, 80, 84, 116, 187, 60, 93...</td>\n",
       "      <td>[[0, {0}], [4, {7}], [8, {2}], [32, {43}], [47...</td>\n",
       "    </tr>\n",
       "  </tbody>\n",
       "</table>\n",
       "<p>1 rows × 11274 columns</p>\n",
       "</div>"
      ],
      "text/plain": [
       "           hasth        buywher      thailand         decor        ginsberg  \\\n",
       "0  [[999, {23}]]  [[999, {15}]]  [[999, {7}]]  [[999, {5}]]  [[998, {211}]]   \n",
       "\n",
       "             hide          lettuc        allegori        sandwich  \\\n",
       "0  [[998, {208}]]  [[998, {206}]]  [[998, {204}]]  [[998, {203}]]   \n",
       "\n",
       "             nake  ...                                               june  \\\n",
       "0  [[998, {197}]]  ...  [[0, {9, 226}], [118, {18}], [239, {229}], [37...   \n",
       "\n",
       "                                             tuesday  \\\n",
       "0  [[0, {8}], [49, {169}], [68, {13}], [153, {18}...   \n",
       "\n",
       "                                             seminar  \\\n",
       "0  [[0, {7, 43, 107, 45, 123}], [420, {121, 13}],...   \n",
       "\n",
       "                                             realiti  \\\n",
       "0  [[0, {68, 6, 42, 112, 54}], [96, {7, 523, 558,...   \n",
       "\n",
       "                                             virtual  \\\n",
       "0  [[0, {67, 5, 41, 111, 53}], [96, {515, 6, 522,...   \n",
       "\n",
       "                                              visual  \\\n",
       "0  [[0, {66, 4, 40, 110, 52}], [3, {74}], [7, {80...   \n",
       "\n",
       "                                            scientif  \\\n",
       "0  [[0, {65, 3, 39, 109, 51}], [8, {85}], [43, {2...   \n",
       "\n",
       "                                                navi  \\\n",
       "0  [[0, {2, 258, 38, 75, 49, 182, 248, 63, 31}], ...   \n",
       "\n",
       "                                             present  \\\n",
       "0  [[0, {1, 100, 59, 46, 80, 84, 116, 187, 60, 93...   \n",
       "\n",
       "                                                call  \n",
       "0  [[0, {0}], [4, {7}], [8, {2}], [32, {43}], [47...  \n",
       "\n",
       "[1 rows x 11274 columns]"
      ]
     },
     "execution_count": 56,
     "metadata": {},
     "output_type": "execute_result"
    }
   ],
   "source": [
    "postings"
   ]
  },
  {
   "cell_type": "code",
   "execution_count": 52,
   "metadata": {},
   "outputs": [],
   "source": [
    "postings.to_pickle(title + \"_positional_postings\")\n",
    "frequency.to_pickle(title + \"_positional_frequency\") "
   ]
  },
  {
   "cell_type": "code",
   "execution_count": 53,
   "metadata": {},
   "outputs": [],
   "source": [
    "postings = pd.read_pickle(title + \"_positional_postings\") \n",
    "frequency = pd.read_pickle(title + \"_positional_frequency\") \n"
   ]
  },
  {
   "cell_type": "markdown",
   "metadata": {},
   "source": [
    "-Search Query -"
   ]
  },
  {
   "cell_type": "code",
   "execution_count": 63,
   "metadata": {},
   "outputs": [],
   "source": [
    "def get_word_postings(word):\n",
    "    preprocessed_word = str(preprocess(word,True))\n",
    "    print(preprocessed_word)\n",
    "    print(\"Frequency: \",frequency[preprocessed_word][0])\n",
    "    print(\"Postings List: \",postings[preprocessed_word][0])\n",
    "\n",
    "def get_positions(posting_values,doc):\n",
    "    for posting_values in posting_values:\n",
    "        if posting_values[0] == doc:\n",
    "            return posting_values[1]\n",
    "    return {}\n",
    "\n",
    "def gen_init_set_matchings(word):\n",
    "    init = []\n",
    "    word_postings = postings[word][0]\n",
    "    for word_posting in word_postings:\n",
    "        for positions in word_postings[1]:\n",
    "            init.append((word_posting[0],positions))\n",
    "    return init\n",
    "\n",
    "def match_positional_index(init,b):\n",
    "    matched_docs = []\n",
    "    for p in init:\n",
    "        doc = p[0]\n",
    "        pos = p[1]\n",
    "        count = 0\n",
    "        for k in b:\n",
    "            pos = pos+1\n",
    "            k_pos = postings[k][0]\n",
    "            docs_list = [z[0]for z in k_pos]\n",
    "            if doc in docs_list:\n",
    "                doc_positions = get_positions(k_pos,doc)\n",
    "                if pos in doc_positions:\n",
    "                    count+=1\n",
    "                else:\n",
    "                    count+=1\n",
    "                    break\n",
    "            if count == len(b):\n",
    "                matched_docs.append(p[0])\n",
    "    return set(matched_docs)\n",
    "\n",
    "def run_query(query):\n",
    "    processed_query = preprocess(query,True)\n",
    "    print(processed_query)\n",
    "    query_tokens = word_tokenize(str(processed_query))\n",
    "    print(query_tokens)\n",
    "\n",
    "    if len(query_tokens)==1:\n",
    "        print(\"Total Document Mathces\",[a[0]for a in postings[query][0]])\n",
    "        return [a[0]for a in postings[query][0]]\n",
    "    \n",
    "    init_word = query_tokens[0]\n",
    "    init_matches = gen_init_set_matchings(init_word)\n",
    "\n",
    "    query_tokens.pop(0)\n",
    "    total_matched_docs = match_positional_index(init_matches, query_tokens)\n",
    "    print(\"Total Document Matches:\",total_matched_docs)\n",
    "    return total_matched_docs\n"
   ]
  },
  {
   "cell_type": "code",
   "execution_count": 68,
   "metadata": {},
   "outputs": [
    {
     "name": "stdout",
     "output_type": "stream",
     "text": [
      "allegori\n",
      "Frequency:  1\n",
      "Postings List:  [[998, {204}]]\n"
     ]
    }
   ],
   "source": [
    "get_word_postings(\"allegori\")"
   ]
  }
 ],
 "metadata": {
  "kernelspec": {
   "display_name": "Python 3",
   "language": "python",
   "name": "python3"
  },
  "language_info": {
   "codemirror_mode": {
    "name": "ipython",
    "version": 3
   },
   "file_extension": ".py",
   "mimetype": "text/x-python",
   "name": "python",
   "nbconvert_exporter": "python",
   "pygments_lexer": "ipython3",
   "version": "3.7.6"
  }
 },
 "nbformat": 4,
 "nbformat_minor": 4
}
